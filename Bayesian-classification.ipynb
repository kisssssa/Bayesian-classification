{
 "cells": [
  {
   "cell_type": "code",
   "execution_count": 2,
   "id": "93ac1a63",
   "metadata": {
    "ExecuteTime": {
     "end_time": "2024-02-25T22:21:26.822128400Z",
     "start_time": "2024-02-25T22:21:20.195075100Z"
    }
   },
   "outputs": [],
   "source": [
    "from collections import defaultdict\n",
    "from math import log\n",
    "import numpy as np\n",
    "import pandas as pd\n",
    "from sklearn.naive_bayes import GaussianNB, MultinomialNB\n",
    "from sklearn import datasets\n",
    "from sklearn.model_selection import train_test_split, KFold, LeaveOneOut, StratifiedKFold\n",
    "from sklearn.metrics import accuracy_score\n",
    "from sklearn.discriminant_analysis import LinearDiscriminantAnalysis\n",
    "from sklearn.preprocessing import LabelEncoder, scale\n",
    "from sklearn.neighbors import KNeighborsClassifier\n",
    "import matplotlib.pyplot as plt"
   ]
  },
  {
   "cell_type": "code",
   "execution_count": 3,
   "outputs": [
    {
     "name": "stdout",
     "output_type": "stream",
     "text": [
      "defaultdict(<function train.<locals>.<lambda> at 0x0000020BF9D7C160>, {'F': 0.4, 'M': 0.6}) defaultdict(<function train.<locals>.<lambda> at 0x0000020BF9D7C1F0>, {('F', 'a'): 0.5, ('M', 'l'): 0.3333333333333333, ('F', 'e'): 0.5, ('M', 'a'): 0.3333333333333333, ('M', 'y'): 0.3333333333333333})\n"
     ]
    }
   ],
   "source": [
    "def train(samples):\n",
    "    classes, freq = defaultdict(lambda:0), defaultdict(lambda:0)\n",
    "    for feats, label in samples:\n",
    "        classes[label] += 1                 # count classes frequencies\n",
    "        for feat in feats:\n",
    "            freq[label, feat] += 1          # count features frequencies\n",
    "\n",
    "    for label, feat in freq:                # normalize features frequencies\n",
    "        freq[label, feat] /= classes[label]\n",
    "    for c in classes:                       # normalize classes frequencies\n",
    "        classes[c] /= len(samples)\n",
    "    print(classes, freq)\n",
    "    return classes, freq                    # return P(C) and P(O|C)\n",
    "\n",
    "def classify(classifier, feats):\n",
    "    classes, prob = classifier\n",
    "    return min(classes.keys(),              # calculate argmin(-log(P(C|O))) -> argmax(P(C|O))\n",
    "        key = lambda cl: -log(classes[cl]) + \\\n",
    "            sum(-log(prob.get((cl,feat), 1e-7)) for feat in feats))\n",
    "\n",
    "def get_features(sample): return (sample[-1]) # get last letter\n",
    "\n",
    "samples = ((\"Anna\", \"F\"), (\"Michael\", \"M\"), (\"Jane\", \"F\"), (\"Ilya\", \"M\"), (\"Anthony\", \"M\"))\n",
    "features = [(get_features(feat), label) for feat, label in samples]\n",
    "classifier = train(features)"
   ],
   "metadata": {
    "collapsed": false,
    "ExecuteTime": {
     "end_time": "2024-02-25T22:21:26.837638400Z",
     "start_time": "2024-02-25T22:21:26.827105400Z"
    }
   },
   "id": "6388d1d7d4632a1c"
  },
  {
   "cell_type": "code",
   "execution_count": 4,
   "id": "b989e756",
   "metadata": {
    "ExecuteTime": {
     "end_time": "2024-02-25T22:21:26.909364600Z",
     "start_time": "2024-02-25T22:21:26.839939100Z"
    }
   },
   "outputs": [
    {
     "data": {
      "text/plain": "(defaultdict(<function __main__.train.<locals>.<lambda>()>,\n             {'F': 0.4, 'M': 0.6}),\n defaultdict(<function __main__.train.<locals>.<lambda>()>,\n             {('F', 'a'): 0.5,\n              ('M', 'l'): 0.3333333333333333,\n              ('F', 'e'): 0.5,\n              ('M', 'a'): 0.3333333333333333,\n              ('M', 'y'): 0.3333333333333333}))"
     },
     "execution_count": 4,
     "metadata": {},
     "output_type": "execute_result"
    }
   ],
   "source": [
    "classifier"
   ]
  },
  {
   "cell_type": "code",
   "execution_count": 5,
   "id": "8886b6bc",
   "metadata": {
    "ExecuteTime": {
     "end_time": "2024-02-25T22:21:26.911386500Z",
     "start_time": "2024-02-25T22:21:26.855532Z"
    }
   },
   "outputs": [
    {
     "name": "stdout",
     "output_type": "stream",
     "text": [
      "gender:  F\n"
     ]
    }
   ],
   "source": [
    "print('gender: ', classify(classifier, get_features(u'Elizaveta')))\n"
   ]
  },
  {
   "cell_type": "markdown",
   "source": [
    "Обучить наивную байесовскую классификацию из файла Sem2.ipynb\n",
    "(см. вложения) на тренировочном наборе данных. Затем с помощью\n",
    "метода classify() разметить имена по полу в тестировочном наборе\n",
    "данных;"
   ],
   "metadata": {
    "collapsed": false
   },
   "id": "fccc1468f260c182"
  },
  {
   "cell_type": "code",
   "execution_count": 6,
   "id": "aaa34c14",
   "metadata": {
    "ExecuteTime": {
     "end_time": "2024-02-25T22:21:27.124148200Z",
     "start_time": "2024-02-25T22:21:26.871234200Z"
    }
   },
   "outputs": [
    {
     "name": "stdout",
     "output_type": "stream",
     "text": [
      "defaultdict(<function train.<locals>.<lambda> at 0x0000020BC87C0C10>, {'boy': 0.4997065337763012, 'girl': 0.5002934662236987}) defaultdict(<function train.<locals>.<lambda> at 0x0000020BF9D7C790>, {('boy', 'd'): 0.07257858987002339, ('girl', 'a'): 0.38396068752559404, ('girl', 'e'): 0.3008533197569533, ('boy', 'y'): 0.11099537934778995, ('boy', 'e'): 0.13836471018427204, ('girl', 'i'): 0.027115867763106927, ('boy', 'o'): 0.06335944685141888, ('boy', 'l'): 0.08340443449643756, ('boy', 'r'): 0.060179285738030074, ('girl', 'l'): 0.03574867464278995, ('boy', 'n'): 0.21351402262679092, ('girl', 'y'): 0.07910085996037763, ('girl', 'n'): 0.0802519008776687, ('boy', 'a'): 0.01619998448701896, ('boy', 'k'): 0.02273759792569282, ('boy', 'c'): 0.009318869325296133, ('boy', 'h'): 0.026859618602280408, ('boy', 's'): 0.07821866654847252, ('boy', 't'): 0.052566844327235254, ('girl', 'r'): 0.011787101701105663, ('girl', 't'): 0.010868482507498367, ('boy', 'g'): 0.006171950314137866, ('girl', 'g'): 0.000520181953006541, ('girl', 'h'): 0.025024072249952962, ('boy', 'w'): 0.004820104823429034, ('girl', 's'): 0.02276626121988202, ('girl', 'k'): 0.0009186191936072959, ('girl', 'm'): 0.0031985656259338373, ('boy', 'm'): 0.01633295289594114, ('girl', 'd'): 0.008057286421037486, ('boy', 'x'): 0.004476603100380068, ('girl', 'z'): 0.0019036445939813842, ('girl', 'o'): 0.005035804013148429, ('boy', 'u'): 0.0007867297527895664, ('boy', 'f'): 0.0036677119461034718, ('boy', 'i'): 0.005529269671013995, ('boy', 'p'): 0.003191241814132326, ('girl', 'u'): 0.0018483060883423903, ('boy', 'b'): 0.0036898733475905017, ('boy', 'z'): 0.002238301550190034, ('girl', 'x'): 0.00021028632142817616, ('boy', 'v'): 0.000554035037175751, ('girl', 'b'): 0.0001217447124057862, ('girl', 'w'): 0.00043164034398415107, ('girl', 'v'): 2.213540225559749e-05, ('boy', 'q'): 0.00013296840892218023, ('girl', 'c'): 0.0002545571259393711, ('boy', 'j'): 0.0001108070074351502})\n"
     ]
    }
   ],
   "source": [
    "data = pd.read_csv('names.csv')\n",
    "data = data.sample(frac=1).reset_index(drop=True)\n",
    "learn_data = data.head(180600)\n",
    "samples = list(zip(learn_data['name'].apply(get_features), learn_data['sex']))\n",
    "classifier_1 = train(samples)"
   ]
  },
  {
   "cell_type": "code",
   "execution_count": 7,
   "outputs": [
    {
     "name": "stdout",
     "output_type": "stream",
     "text": [
      "gender:  boy\n"
     ]
    }
   ],
   "source": [
    "print('gender: ', classify(classifier_1, get_features(u'Alexey')))"
   ],
   "metadata": {
    "collapsed": false,
    "ExecuteTime": {
     "end_time": "2024-02-25T22:21:27.176267800Z",
     "start_time": "2024-02-25T22:21:27.119118600Z"
    }
   },
   "id": "6f2a5b826531da4e"
  },
  {
   "cell_type": "markdown",
   "source": [
    "Посчитайте среднюю долю правильных \"ответов\"классификатора. Ка-\n",
    "кие еще метрики можно построить, чтобы оценить, насколько хорошо\n",
    "справился с задачей данный классификатор?"
   ],
   "metadata": {
    "collapsed": false
   },
   "id": "8946fc79f41325e3"
  },
  {
   "cell_type": "code",
   "execution_count": 8,
   "outputs": [
    {
     "name": "stdout",
     "output_type": "stream",
     "text": [
      "Accuracy:  {0.7801808785529716}\n"
     ]
    }
   ],
   "source": [
    "test_data = data.tail(len(data) - 180600)\n",
    "test_samples = list(zip(test_data['name'].apply(get_features), test_data['sex']))\n",
    "\n",
    "correct = 0\n",
    "for feats, true_label in test_samples:\n",
    "    predicted_label = classify(classifier_1, feats)\n",
    "    if predicted_label == true_label:\n",
    "        correct += 1\n",
    "\n",
    "accuracy = correct / len(test_samples)\n",
    "print('Accuracy: ', {accuracy})"
   ],
   "metadata": {
    "collapsed": false,
    "ExecuteTime": {
     "end_time": "2024-02-25T22:21:27.354962100Z",
     "start_time": "2024-02-25T22:21:27.133709700Z"
    }
   },
   "id": "96301c1211b38931"
  },
  {
   "cell_type": "markdown",
   "source": [
    "Теперь применим метод перекрестного контроля "
   ],
   "metadata": {
    "collapsed": false
   },
   "id": "7e1872a282df6a82"
  },
  {
   "cell_type": "code",
   "execution_count": 9,
   "outputs": [
    {
     "name": "stdout",
     "output_type": "stream",
     "text": [
      "defaultdict(<function train.<locals>.<lambda> at 0x0000020BF9D7CDC0>, {'girl': 0.4993152454780362, 'boy': 0.5006847545219638}) defaultdict(<function train.<locals>.<lambda> at 0x0000020BFAF253A0>, {('girl', 'a'): 0.3855409216756799, ('girl', 'e'): 0.3041633244495045, ('girl', 's'): 0.02075193417341579, ('boy', 'e'): 0.13792480582148478, ('girl', 'h'): 0.02478846999767123, ('boy', 'k'): 0.021598327871390603, ('boy', 'r'): 0.06035661755218951, ('boy', 'n'): 0.21655097669857817, ('boy', 's'): 0.07885841096173199, ('girl', 'y'): 0.07752218800941858, ('boy', 'c'): 0.008979949939359534, ('boy', 'a'): 0.015818130209274122, ('boy', 'o'): 0.06257580058318066, ('boy', 'h'): 0.025985085025675432, ('boy', 'm'): 0.016437437101643745, ('girl', 'i'): 0.02856625352550004, ('boy', 'y'): 0.1119655252496581, ('girl', 'l'): 0.03397417652081662, ('boy', 'l'): 0.08154207416200036, ('boy', 'p'): 0.0030191211003019122, ('girl', 'd'): 0.00773669366315626, ('boy', 't'): 0.05313137047454391, ('boy', 'd'): 0.07387815136892628, ('girl', 'r'): 0.012057857013480994, ('boy', 'x'): 0.004231930431192424, ('girl', 'n'): 0.0797474577586876, ('boy', 'b'): 0.004283539338889892, ('boy', 'i'): 0.005264108585141795, ('girl', 't'): 0.01117809920563045, ('girl', 'u'): 0.0018112660749864155, ('boy', 'g'): 0.005522153123629138, ('boy', 'f'): 0.003509405723427864, ('boy', 'z'): 0.0021675741232936806, ('girl', 'o'): 0.005123295469247289, ('girl', 'g'): 0.0004916293632105985, ('girl', 'z'): 0.002044143141770383, ('girl', 'm'): 0.0026133981939089708, ('girl', 'k'): 0.0009315082671358709, ('boy', 'u'): 0.000877351430856966, ('boy', 'w'): 0.004825432869713313, ('girl', 'w'): 0.00033637798535462, ('girl', 'x'): 0.00015525137785597846, ('girl', 'c'): 0.00033637798535462, ('girl', 'b'): 0.00010350091857065232, ('boy', 'v'): 0.0005160890769746858, ('girl', 'v'): 2.587522964266308e-05, ('boy', 'q'): 0.00010321781539493717, ('boy', 'j'): 7.741336154620287e-05})\n",
      "Accuracy:  {0.7764119601328904}\n"
     ]
    }
   ],
   "source": [
    "learn_data_rev = data.tail(len(data) - 180600)\n",
    "samples_rev = list(zip(learn_data_rev['name'].apply(get_features), learn_data_rev['sex']))\n",
    "classifier_1_rev = train(samples_rev)\n",
    "test_data_rev = data.head(180600) \n",
    "test_samples_rev = list(zip(test_data_rev['name'].apply(get_features), test_data_rev['sex']))\n",
    "\n",
    "correct_rev = 0\n",
    "for feats, true_label in test_samples_rev:\n",
    "    predicted_label = classify(classifier_1_rev, feats)\n",
    "    if predicted_label == true_label:\n",
    "        correct_rev += 1\n",
    "\n",
    "accuracy_rev = correct_rev / len(test_samples_rev)\n",
    "print('Accuracy: ', {accuracy_rev})"
   ],
   "metadata": {
    "collapsed": false,
    "ExecuteTime": {
     "end_time": "2024-02-25T22:21:27.880425900Z",
     "start_time": "2024-02-25T22:21:27.356958400Z"
    }
   },
   "id": "fb8a6782198a0171"
  },
  {
   "cell_type": "code",
   "execution_count": 10,
   "outputs": [
    {
     "name": "stdout",
     "output_type": "stream",
     "text": [
      "Итоговая оценка:  0.7782964193429309\n"
     ]
    }
   ],
   "source": [
    "print('Итоговая оценка: ', (accuracy_rev + accuracy)/2)"
   ],
   "metadata": {
    "collapsed": false,
    "ExecuteTime": {
     "end_time": "2024-02-25T22:21:27.897946800Z",
     "start_time": "2024-02-25T22:21:27.875894100Z"
    }
   },
   "id": "dfd368fb20acbae5"
  },
  {
   "cell_type": "markdown",
   "source": [
    "Модифицируйте функцию get_features() таким образом, чтобы в\n",
    "качестве целевого признака бралась другая структура (не последняя\n",
    "буква имени). Возможно, это будет набор из первой и последней бук-\n",
    "вы. Или, например, имя целиком...\n",
    "Будем использовать первую и последнюю букву"
   ],
   "metadata": {
    "collapsed": false
   },
   "id": "be8827ec998c3dd7"
  },
  {
   "cell_type": "code",
   "execution_count": 11,
   "outputs": [],
   "source": [
    "def get_features_first(sample):\n",
    "    last_letter = sample[-1]\n",
    "    first_letter = sample[0]\n",
    "    return last_letter,first_letter"
   ],
   "metadata": {
    "collapsed": false,
    "ExecuteTime": {
     "end_time": "2024-02-25T22:21:27.947266600Z",
     "start_time": "2024-02-25T22:21:27.891952Z"
    }
   },
   "id": "e7d86a47a5ed0b0f"
  },
  {
   "cell_type": "code",
   "execution_count": 12,
   "outputs": [
    {
     "name": "stdout",
     "output_type": "stream",
     "text": [
      "defaultdict(<function train.<locals>.<lambda> at 0x0000020BC87EE1F0>, {'boy': 0.4997065337763012, 'girl': 0.5002934662236987}) defaultdict(<function train.<locals>.<lambda> at 0x0000020BFAF258B0>, {('boy', 'd'): 0.07257858987002339, ('boy', 'C'): 0.07354261083470919, ('girl', 'a'): 0.38396068752559404, ('girl', 'L'): 0.0899361393644926, ('girl', 'e'): 0.3008533197569533, ('girl', 'C'): 0.08336192489458015, ('boy', 'y'): 0.11099537934778995, ('boy', 'G'): 0.04312608729376046, ('boy', 'H'): 0.04056644542200849, ('boy', 'S'): 0.04883264817667069, ('boy', 'e'): 0.13836471018427204, ('boy', 'L'): 0.059447959488958084, ('girl', 'K'): 0.045919891979236994, ('girl', 'A'): 0.09231569510696933, ('girl', 'i'): 0.027115867763106927, ('girl', 'T'): 0.03518422188527221, ('boy', 'o'): 0.06335944685141888, ('boy', 'E'): 0.06618502554101521, ('boy', 'l'): 0.08340443449643756, ('boy', 'M'): 0.06810198676964331, ('girl', 'J'): 0.07199539583633084, ('boy', 'r'): 0.060179285738030074, ('girl', 'l'): 0.03574867464278995, ('girl', 'S'): 0.05702079621041913, ('boy', 'n'): 0.21351402262679092, ('boy', 'K'): 0.02767959045730052, ('girl', 'N'): 0.026872378338295352, ('boy', 'A'): 0.08230744512282957, ('girl', 'O'): 0.013856761812004029, ('boy', 'O'): 0.021418994537214534, ('girl', 'y'): 0.07910085996037763, ('girl', 'F'): 0.02160415260146315, ('girl', 'n'): 0.0802519008776687, ('girl', 'M'): 0.10298495899416732, ('girl', 'R'): 0.049018848295020644, ('boy', 'J'): 0.07682249825478964, ('boy', 'V'): 0.01421653905392977, ('girl', 'G'): 0.033380186601441014, ('girl', 'E'): 0.06604097262957512, ('girl', 'D'): 0.05231702323110467, ('girl', 'B'): 0.041149712793155734, ('boy', 'a'): 0.01619998448701896, ('boy', 'k'): 0.02273759792569282, ('boy', 'c'): 0.009318869325296133, ('boy', 'I'): 0.016078096778840294, ('boy', 'T'): 0.03919243852981263, ('girl', 'V'): 0.026064436155966045, ('girl', 'I'): 0.01957876329507598, ('boy', 'F'): 0.0275909448513524, ('boy', 'B'): 0.060622513767770676, ('boy', 'h'): 0.026859618602280408, ('boy', 'R'): 0.0684676498941793, ('boy', 's'): 0.07821866654847252, ('boy', 'D'): 0.07447338969716445, ('boy', 't'): 0.052566844327235254, ('girl', 'r'): 0.011787101701105663, ('girl', 't'): 0.010868482507498367, ('boy', 'P'): 0.021208461223087748, ('boy', 'g'): 0.006171950314137866, ('girl', 'H'): 0.024016911447323278, ('girl', 'g'): 0.000520181953006541, ('girl', 'Y'): 0.004449215853375096, ('girl', 'h'): 0.025024072249952962, ('boy', 'N'): 0.023114341750972333, ('boy', 'w'): 0.004820104823429034, ('boy', 'W'): 0.036566312453599564, ('girl', 's'): 0.02276626121988202, ('girl', 'k'): 0.0009186191936072959, ('girl', 'm'): 0.0031985656259338373, ('boy', 'm'): 0.01633295289594114, ('girl', 'P'): 0.023419255586422143, ('girl', 'd'): 0.008057286421037486, ('boy', 'x'): 0.004476603100380068, ('girl', 'z'): 0.0019036445939813842, ('girl', 'Z'): 0.0065631467687846555, ('girl', 'o'): 0.005035804013148429, ('girl', 'W'): 0.010104811129680254, ('boy', 'X'): 0.0006205192416368411, ('boy', 'u'): 0.0007867297527895664, ('boy', 'Q'): 0.0030028699014925703, ('boy', 'f'): 0.0036677119461034718, ('boy', 'i'): 0.005529269671013995, ('girl', 'Q'): 0.0011953117218022646, ('boy', 'U'): 0.0021607366449854287, ('boy', 'p'): 0.003191241814132326, ('girl', 'u'): 0.0018483060883423903, ('boy', 'Z'): 0.003867164559486742, ('boy', 'b'): 0.0036898733475905017, ('girl', 'U'): 0.0015052073533806294, ('boy', 'Y'): 0.0007867297527895664, ('boy', 'z'): 0.002238301550190034, ('girl', 'x'): 0.00021028632142817616, ('boy', 'v'): 0.000554035037175751, ('girl', 'b'): 0.0001217447124057862, ('girl', 'w'): 0.00043164034398415107, ('girl', 'v'): 2.213540225559749e-05, ('girl', 'X'): 0.00014388011466138367, ('boy', 'q'): 0.00013296840892218023, ('girl', 'c'): 0.0002545571259393711, ('boy', 'j'): 0.0001108070074351502})\n"
     ]
    }
   ],
   "source": [
    "learn_data_first = data.head(180600)\n",
    "samples_first = list(zip(learn_data_first['name'].apply(get_features_first), learn_data_first['sex']))\n",
    "classifier_first = train(samples_first)"
   ],
   "metadata": {
    "collapsed": false,
    "ExecuteTime": {
     "end_time": "2024-02-25T22:21:28.055613600Z",
     "start_time": "2024-02-25T22:21:27.907540700Z"
    }
   },
   "id": "9a0ab4d8a0f78eb8"
  },
  {
   "cell_type": "code",
   "execution_count": 13,
   "outputs": [
    {
     "name": "stdout",
     "output_type": "stream",
     "text": [
      "Accuracy:  {0.78343669250646}\n"
     ]
    }
   ],
   "source": [
    "test_data_first = data.tail(len(data) - 180600)\n",
    "test_samples_first = list(zip(test_data_first['name'].apply(get_features_first), test_data_first['sex']))\n",
    "correct_first = 0\n",
    "for feats, true_label in test_samples_first:\n",
    "    predicted_label = classify(classifier_first, feats)\n",
    "    if predicted_label == true_label:\n",
    "        correct_first += 1\n",
    "\n",
    "accuracy_first = correct_first / len(test_samples_first)\n",
    "print('Accuracy: ', {accuracy_first})\n"
   ],
   "metadata": {
    "collapsed": false,
    "ExecuteTime": {
     "end_time": "2024-02-25T22:21:28.306600500Z",
     "start_time": "2024-02-25T22:21:28.049069100Z"
    }
   },
   "id": "10121f6cd8087622"
  },
  {
   "cell_type": "markdown",
   "source": [
    "Удалось немного повысить точность с помощью добавления первой буквы. Так же были попытки использовать всё имя, длину имени, предпоследнюю букву - точность падала.\n",
    "\n",
    "\n",
    "Модифицируйте метод classify() так, чтобы вместо логарифмов бра-\n",
    "лись исходные значения вероятностей, а вместо argmin(...) считался\n",
    "функционал argmax(...). Также можете использовать другой метод\n",
    "классификации (из лекций или учебников, или модифицировать его\n",
    "самому методом проб и ошибок)."
   ],
   "metadata": {
    "collapsed": false
   },
   "id": "b508212377aeb675"
  },
  {
   "cell_type": "code",
   "execution_count": 14,
   "outputs": [],
   "source": [
    "def classify_modified(classifier_modified, feats):\n",
    "    classes, prob = classifier_modified\n",
    "    return max(classes.keys(),              # calculate argmin(-log(P(C|O))) -> argmax(P(C|O))\n",
    "        key = lambda cl: (classes[cl]) + \\\n",
    "            sum((prob.get((cl,feat), 1e-7)) for feat in feats))\n",
    "\n"
   ],
   "metadata": {
    "collapsed": false,
    "ExecuteTime": {
     "end_time": "2024-02-25T22:21:28.319775900Z",
     "start_time": "2024-02-25T22:21:28.299061800Z"
    }
   },
   "id": "d5e934cc8505d954"
  },
  {
   "cell_type": "code",
   "execution_count": 15,
   "outputs": [
    {
     "name": "stdout",
     "output_type": "stream",
     "text": [
      "defaultdict(<function train.<locals>.<lambda> at 0x0000020BFFCC4310>, {'boy': 0.4997065337763012, 'girl': 0.5002934662236987}) defaultdict(<function train.<locals>.<lambda> at 0x0000020BFFCC43A0>, {('boy', 'd'): 0.07257858987002339, ('boy', 'C'): 0.07354261083470919, ('girl', 'a'): 0.38396068752559404, ('girl', 'L'): 0.0899361393644926, ('girl', 'e'): 0.3008533197569533, ('girl', 'C'): 0.08336192489458015, ('boy', 'y'): 0.11099537934778995, ('boy', 'G'): 0.04312608729376046, ('boy', 'H'): 0.04056644542200849, ('boy', 'S'): 0.04883264817667069, ('boy', 'e'): 0.13836471018427204, ('boy', 'L'): 0.059447959488958084, ('girl', 'K'): 0.045919891979236994, ('girl', 'A'): 0.09231569510696933, ('girl', 'i'): 0.027115867763106927, ('girl', 'T'): 0.03518422188527221, ('boy', 'o'): 0.06335944685141888, ('boy', 'E'): 0.06618502554101521, ('boy', 'l'): 0.08340443449643756, ('boy', 'M'): 0.06810198676964331, ('girl', 'J'): 0.07199539583633084, ('boy', 'r'): 0.060179285738030074, ('girl', 'l'): 0.03574867464278995, ('girl', 'S'): 0.05702079621041913, ('boy', 'n'): 0.21351402262679092, ('boy', 'K'): 0.02767959045730052, ('girl', 'N'): 0.026872378338295352, ('boy', 'A'): 0.08230744512282957, ('girl', 'O'): 0.013856761812004029, ('boy', 'O'): 0.021418994537214534, ('girl', 'y'): 0.07910085996037763, ('girl', 'F'): 0.02160415260146315, ('girl', 'n'): 0.0802519008776687, ('girl', 'M'): 0.10298495899416732, ('girl', 'R'): 0.049018848295020644, ('boy', 'J'): 0.07682249825478964, ('boy', 'V'): 0.01421653905392977, ('girl', 'G'): 0.033380186601441014, ('girl', 'E'): 0.06604097262957512, ('girl', 'D'): 0.05231702323110467, ('girl', 'B'): 0.041149712793155734, ('boy', 'a'): 0.01619998448701896, ('boy', 'k'): 0.02273759792569282, ('boy', 'c'): 0.009318869325296133, ('boy', 'I'): 0.016078096778840294, ('boy', 'T'): 0.03919243852981263, ('girl', 'V'): 0.026064436155966045, ('girl', 'I'): 0.01957876329507598, ('boy', 'F'): 0.0275909448513524, ('boy', 'B'): 0.060622513767770676, ('boy', 'h'): 0.026859618602280408, ('boy', 'R'): 0.0684676498941793, ('boy', 's'): 0.07821866654847252, ('boy', 'D'): 0.07447338969716445, ('boy', 't'): 0.052566844327235254, ('girl', 'r'): 0.011787101701105663, ('girl', 't'): 0.010868482507498367, ('boy', 'P'): 0.021208461223087748, ('boy', 'g'): 0.006171950314137866, ('girl', 'H'): 0.024016911447323278, ('girl', 'g'): 0.000520181953006541, ('girl', 'Y'): 0.004449215853375096, ('girl', 'h'): 0.025024072249952962, ('boy', 'N'): 0.023114341750972333, ('boy', 'w'): 0.004820104823429034, ('boy', 'W'): 0.036566312453599564, ('girl', 's'): 0.02276626121988202, ('girl', 'k'): 0.0009186191936072959, ('girl', 'm'): 0.0031985656259338373, ('boy', 'm'): 0.01633295289594114, ('girl', 'P'): 0.023419255586422143, ('girl', 'd'): 0.008057286421037486, ('boy', 'x'): 0.004476603100380068, ('girl', 'z'): 0.0019036445939813842, ('girl', 'Z'): 0.0065631467687846555, ('girl', 'o'): 0.005035804013148429, ('girl', 'W'): 0.010104811129680254, ('boy', 'X'): 0.0006205192416368411, ('boy', 'u'): 0.0007867297527895664, ('boy', 'Q'): 0.0030028699014925703, ('boy', 'f'): 0.0036677119461034718, ('boy', 'i'): 0.005529269671013995, ('girl', 'Q'): 0.0011953117218022646, ('boy', 'U'): 0.0021607366449854287, ('boy', 'p'): 0.003191241814132326, ('girl', 'u'): 0.0018483060883423903, ('boy', 'Z'): 0.003867164559486742, ('boy', 'b'): 0.0036898733475905017, ('girl', 'U'): 0.0015052073533806294, ('boy', 'Y'): 0.0007867297527895664, ('boy', 'z'): 0.002238301550190034, ('girl', 'x'): 0.00021028632142817616, ('boy', 'v'): 0.000554035037175751, ('girl', 'b'): 0.0001217447124057862, ('girl', 'w'): 0.00043164034398415107, ('girl', 'v'): 2.213540225559749e-05, ('girl', 'X'): 0.00014388011466138367, ('boy', 'q'): 0.00013296840892218023, ('girl', 'c'): 0.0002545571259393711, ('boy', 'j'): 0.0001108070074351502})\n"
     ]
    }
   ],
   "source": [
    "learn_data_modified = data.head(180600)\n",
    "samples_modified = list(zip(learn_data_modified['name'].apply(get_features_first), learn_data_modified['sex']))\n",
    "classifier_modified = train(samples_modified)"
   ],
   "metadata": {
    "collapsed": false,
    "ExecuteTime": {
     "end_time": "2024-02-25T22:21:28.452663300Z",
     "start_time": "2024-02-25T22:21:28.314152200Z"
    }
   },
   "id": "fb92f58d90cb3d98"
  },
  {
   "cell_type": "code",
   "execution_count": 16,
   "outputs": [
    {
     "name": "stdout",
     "output_type": "stream",
     "text": [
      "Accuracy:  {0.77171834625323}\n"
     ]
    }
   ],
   "source": [
    "test_data_modified = data.tail(len(data) - 180600)\n",
    "test_samples_modified = list(zip(test_data_modified['name'].apply(get_features_first), test_data_modified['sex']))\n",
    "correct_modified = 0\n",
    "for feats, true_label in test_samples_modified:\n",
    "    predicted_label = classify_modified(classifier_modified, feats)\n",
    "    if predicted_label == true_label:\n",
    "        correct_modified += 1\n",
    "\n",
    "accuracy_modified = correct_modified / len(test_samples_modified)\n",
    "print('Accuracy: ', {accuracy_modified})"
   ],
   "metadata": {
    "collapsed": false,
    "ExecuteTime": {
     "end_time": "2024-02-25T22:21:28.655278300Z",
     "start_time": "2024-02-25T22:21:28.454654Z"
    }
   },
   "id": "5d34c7288c7e0c40"
  },
  {
   "cell_type": "markdown",
   "source": [
    "Результат практически не изменился \n",
    "\n",
    "\n",
    "Запустите гауссовский и мультиномиальный классификатор методами\n",
    "из sklearn.naive_bayes. Насколько точна классификация в данном\n",
    "случае? Какой из трех методов оказался точнее (наивный, гауссовский\n",
    "или мультиномиальный)?"
   ],
   "metadata": {
    "collapsed": false
   },
   "id": "a56c5f741ee73f3b"
  },
  {
   "cell_type": "code",
   "execution_count": 17,
   "outputs": [
    {
     "name": "stdout",
     "output_type": "stream",
     "text": [
      "Accuracy of Gaussian Naive Bayes : 0.7352583979328166\n",
      "Accuracy of Multinomial Naive Bayes : 0.4993152454780362\n"
     ]
    }
   ],
   "source": [
    "label_encoder = LabelEncoder()\n",
    "data['last_letter_encoded'] = label_encoder.fit_transform(data['name'].apply(lambda x: x[-1]))\n",
    "X = data['last_letter_encoded']\n",
    "y = data['sex']\n",
    "X_train, X_test, y_train, y_test = train_test_split(X, y, test_size=0.3, shuffle=False)\n",
    "\n",
    "X_train = X_train.values.reshape(-1, 1)\n",
    "X_test = X_test.values.reshape(-1, 1)\n",
    "\n",
    "gnb = GaussianNB()\n",
    "gnb.fit(X_train, y_train)\n",
    "gnb_pred = gnb.predict(X_test)\n",
    "gnb_accuracy = accuracy_score(y_test, gnb_pred)\n",
    "print(\"Accuracy of Gaussian Naive Bayes :\", gnb_accuracy)\n",
    "\n",
    "mnb = MultinomialNB()\n",
    "mnb.fit(X_train, y_train)\n",
    "mnb_pred = mnb.predict(X_test)\n",
    "mnb_accuracy = accuracy_score(y_test, mnb_pred)\n",
    "print(\"Accuracy of Multinomial Naive Bayes :\", mnb_accuracy)"
   ],
   "metadata": {
    "collapsed": false,
    "ExecuteTime": {
     "end_time": "2024-02-25T22:21:29.374390300Z",
     "start_time": "2024-02-25T22:21:28.658801400Z"
    }
   },
   "id": "edea510f4de22b91"
  },
  {
   "cell_type": "markdown",
   "source": [
    "Наибольшую точность показал наивный метод с признаком \"первая и последняя буква\"\n",
    "\n",
    "\n",
    "Теперь возьмем датасет, содержащий описание цветков ириса и их\n",
    "классификацию по сортам (Setosa, Versicolour, Virginica). Этот набор\n",
    "данных содержится в sklearn.datasets.load_iris().\n",
    "• Разделите данные на обучение и тестировку ;\n",
    "• С помощью метода LDA (линейный дискриминантный анализ) реали-\n",
    "зуйте классификацию сортов ириса на основании признаков датасета;"
   ],
   "metadata": {
    "collapsed": false
   },
   "id": "cc4b00cb6e93208"
  },
  {
   "cell_type": "code",
   "execution_count": 18,
   "outputs": [
    {
     "name": "stdout",
     "output_type": "stream",
     "text": [
      "Accuracy: 1.0\n"
     ]
    },
    {
     "data": {
      "text/plain": "<Figure size 432x288 with 1 Axes>",
      "image/png": "[encoded data removed]"
     },
     "metadata": {
      "needs_background": "light"
     },
     "output_type": "display_data"
    }
   ],
   "source": [
    "iris = datasets.load_iris()\n",
    "X = iris.data\n",
    "y = iris.target\n",
    "X_train, X_test, y_train, y_test = train_test_split(X, y, test_size=0.3, random_state=42)\n",
    "lda = LinearDiscriminantAnalysis()\n",
    "lda.fit(X_train, y_train)\n",
    "y_pred = lda.predict(X_test)\n",
    "b = lda.fit_transform(X, y)\n",
    "plt.scatter(b[:, 0],b[:, 1], c=y)\n",
    "print('Accuracy:', accuracy_score(y_test, y_pred))\n"
   ],
   "metadata": {
    "collapsed": false,
    "ExecuteTime": {
     "end_time": "2024-02-25T22:21:29.577020900Z",
     "start_time": "2024-02-25T22:21:29.377393800Z"
    }
   },
   "id": "70bfb9ed16670217"
  },
  {
   "cell_type": "code",
   "execution_count": 19,
   "outputs": [
    {
     "data": {
      "image/png": "[encoded data removed]",
      "text/plain": "<IPython.core.display.Image object>"
     },
     "metadata": {},
     "output_type": "display_data"
    },
    {
     "name": "stdout",
     "output_type": "stream",
     "text": [
      "График с семинара\n"
     ]
    }
   ],
   "source": [
    "from IPython.display import Image\n",
    "display(Image('image_2.png'))\n",
    "print('График с семинара')"
   ],
   "metadata": {
    "collapsed": false,
    "ExecuteTime": {
     "end_time": "2024-02-25T22:21:29.674848900Z",
     "start_time": "2024-02-25T22:21:29.579017Z"
    }
   },
   "id": "10fbaddf42ecfd59"
  },
  {
   "cell_type": "markdown",
   "source": [
    "Открыть датасет sklearn.datasets.load_wine, содержащий инфор-\n",
    "мацию о трех различных сортах вина (class0, class1, class2). Ответить\n",
    "на вопросы ниже, используя средства языка Python и необходимых\n",
    "библиотек;\n",
    "• Использовать три подхода к делению выборки на тренировочную и\n",
    "тестовую: KFold, LOO, Stratified KFold. Для воспроизводимости за-\n",
    "фиксируйте параметр random_state=42;\n",
    "• Для каждого из методов кросс-валидации, а также для каждого k ∈ [1, 50]\n",
    "(число \"соседей\") прогнать алгоритм ближайших соседей (sklearn.neighbors.KNeighborsClassifier)\n",
    "и посчитать долю правильных ответов. Какая кросс-валидация и при\n",
    "каком значении k дает лучший результат?\n",
    "• Произведите масштабирование признаков с помощью функции sklearn.preprocessing.scale.\n",
    "Снова найдите оптимальное k на трех разных кросс-валидациях. Че-\n",
    "му оно равно? Изменилось ли оно? Изменился ли оптимальный метод\n",
    "валидации?\n"
   ],
   "metadata": {
    "collapsed": false
   },
   "id": "2d152ab4c97cdd1b"
  },
  {
   "cell_type": "code",
   "execution_count": 20,
   "outputs": [],
   "source": [
    "def evaluate_model(X, y, cv, k_range):\n",
    "    scores = []\n",
    "    for k in k_range:\n",
    "        knn = KNeighborsClassifier(n_neighbors=k)\n",
    "        fold_scores = []\n",
    "        for train_idx, test_idx in cv.split(X, y):\n",
    "            X_train, X_test = X[train_idx], X[test_idx]\n",
    "            y_train, y_test = y[train_idx], y[test_idx]\n",
    "            knn.fit(X_train, y_train)\n",
    "            y_pred = knn.predict(X_test)\n",
    "            fold_scores.append(accuracy_score(y_test, y_pred))\n",
    "        scores.append(np.mean(fold_scores))\n",
    "    return scores"
   ],
   "metadata": {
    "collapsed": false,
    "ExecuteTime": {
     "end_time": "2024-02-25T22:21:29.676847Z",
     "start_time": "2024-02-25T22:21:29.594079700Z"
    }
   },
   "id": "329abfc2e4e707e7"
  },
  {
   "cell_type": "code",
   "execution_count": 21,
   "outputs": [
    {
     "name": "stdout",
     "output_type": "stream",
     "text": [
      "Best accuracy for KFold: 0.7304761904761905\n",
      "Best k value for KFold: 1\n",
      "Best accuracy for Leave-One-Out: 0.7696629213483146\n",
      "Best k value for Leave-One-Out: 1\n",
      "Best accuracy for Stratified KFold: 0.7185714285714285\n",
      "Best k value for Stratified KFold: 1\n",
      "Best accuracy for KFold with scaled: 0.9776190476190475\n",
      "Best k value for KFold with scaled: 29\n",
      "Best accuracy for Leave-One-Out with scaled: 0.9831460674157303\n",
      "Best k value for Leave-One-Out with scaled: 36\n",
      "Best accuracy for Stratified KFold with scaled: 0.9776190476190475\n",
      "Best k value for Stratified KFold with scaled: 13\n"
     ]
    }
   ],
   "source": [
    "wine = datasets.load_wine()\n",
    "X, y = wine.data, wine.target\n",
    "random_state = 42\n",
    "\n",
    "kf = KFold(n_splits=5, random_state=random_state, shuffle=True)\n",
    "k_range = range(1, 51)\n",
    "kf_scores = evaluate_model(X, y, kf, k_range)\n",
    "best_k_kf = k_range[np.argmax(kf_scores)]\n",
    "best_accuracy_kf = np.max(kf_scores)\n",
    "\n",
    "print(\"Best accuracy for KFold:\", best_accuracy_kf)\n",
    "print(\"Best k value for KFold:\", best_k_kf)\n",
    "\n",
    "\n",
    "loo = LeaveOneOut()\n",
    "loo_scores = evaluate_model(X, y, loo, k_range)\n",
    "best_k_loo = k_range[np.argmax(loo_scores)]\n",
    "best_accuracy_loo = np.max(loo_scores)\n",
    "\n",
    "print(\"Best accuracy for Leave-One-Out:\", best_accuracy_loo)\n",
    "print(\"Best k value for Leave-One-Out:\", best_k_loo)\n",
    "\n",
    "\n",
    "skf = StratifiedKFold(n_splits=5, random_state=random_state, shuffle=True)\n",
    "skf_scores = evaluate_model(X, y, skf, k_range)\n",
    "best_k_skf = k_range[np.argmax(skf_scores)]\n",
    "best_accuracy_skf = np.max(skf_scores)\n",
    "\n",
    "print(\"Best accuracy for Stratified KFold:\", best_accuracy_skf)\n",
    "print(\"Best k value for Stratified KFold:\", best_k_skf)\n",
    "\n",
    "\n",
    "X_scaled = scale(X)\n",
    "\n",
    "\n",
    "kf_scaled_scores = evaluate_model(X_scaled, y, kf, k_range)\n",
    "best_k_kf_scaled = k_range[np.argmax(kf_scaled_scores)]\n",
    "best_accuracy_kf_scaled = np.max(kf_scaled_scores)\n",
    "\n",
    "print(\"Best accuracy for KFold with scaled:\", best_accuracy_kf_scaled)\n",
    "print(\"Best k value for KFold with scaled:\", best_k_kf_scaled)\n",
    "\n",
    "loo_scaled_scores = evaluate_model(X_scaled, y, loo, k_range)\n",
    "best_k_loo_scaled = k_range[np.argmax(loo_scaled_scores)]\n",
    "best_accuracy_loo_scaled = np.max(loo_scaled_scores)\n",
    "\n",
    "print(\"Best accuracy for Leave-One-Out with scaled:\", best_accuracy_loo_scaled)\n",
    "print(\"Best k value for Leave-One-Out with scaled:\", best_k_loo_scaled)\n",
    "\n",
    "skf_scaled_scores = evaluate_model(X_scaled, y, skf, k_range)\n",
    "best_k_skf_scaled = k_range[np.argmax(skf_scaled_scores)]\n",
    "best_accuracy_skf_scaled = np.max(skf_scaled_scores)\n",
    "\n",
    "print(\"Best accuracy for Stratified KFold with scaled:\", best_accuracy_skf_scaled)\n",
    "print(\"Best k value for Stratified KFold with scaled:\", best_k_skf_scaled)\n"
   ],
   "metadata": {
    "collapsed": false,
    "ExecuteTime": {
     "end_time": "2024-02-25T22:21:59.511470600Z",
     "start_time": "2024-02-25T22:21:29.612057400Z"
    }
   },
   "id": "34e116763dfc778f"
  },
  {
   "cell_type": "code",
   "execution_count": 21,
   "outputs": [],
   "source": [],
   "metadata": {
    "collapsed": false,
    "ExecuteTime": {
     "end_time": "2024-02-25T22:21:59.533157700Z",
     "start_time": "2024-02-25T22:21:59.511470600Z"
    }
   },
   "id": "8212fde256b4ff57"
  }
 ],
 "metadata": {
  "kernelspec": {
   "display_name": "Python 3 (ipykernel)",
   "language": "python",
   "name": "python3"
  },
  "language_info": {
   "codemirror_mode": {
    "name": "ipython",
    "version": 3
   },
   "file_extension": ".py",
   "mimetype": "text/x-python",
   "name": "python",
   "nbconvert_exporter": "python",
   "pygments_lexer": "ipython3",
   "version": "3.9.12"
  }
 },
 "nbformat": 4,
 "nbformat_minor": 5
}
